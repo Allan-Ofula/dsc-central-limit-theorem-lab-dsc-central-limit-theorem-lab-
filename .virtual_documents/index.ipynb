





import pandas as pd
import numpy as np
import matplotlib.pyplot as plt
get_ipython().run_line_magic("matplotlib", " inline")
import seaborn as sns
import scipy.stats as st
np.random.seed(0) #set a random seed for reproducibility





# Your code here

# Reading the dataset as a Pandas Series
data = pd.read_csv("non_normal_dataset.csv")
data = data.squeeze()  # Converting to Series if it's a single column

# Display 
data.head()





# Your code here

# Plotting the histogram with density curve
sns.histplot(data, kde=True, bins=30)
plt.title("Distribution of Dataset")
plt.xlabel("Value")
plt.ylabel("Frequency")
plt.show()





# Your code here

# Import necessary library
from scipy.stats import normaltest

# Perform the normality test
stat, p_value = normaltest(data)

# Print results
print(f"Test Statistic: {stat}")
print(f"P-value: {p_value}")

# Interpret the result
alpha = 0.05  # 5% significance level
if p_value < alpha:
    print("The dataset is NOT normally distributed (reject null hypothesis).")
else:
    print("The dataset appears to be normally distributed (fail to reject null hypothesis).")








def get_sample(data, n, seed):
    #Adding random seed for reproducibility
    np.random.seed(seed)
    
    #Your code here

    # Random sampling with replacement
    sample = np.random.choice(data, size=n, replace=True)
    
    return sample

test_sample = get_sample(data, 30, 0)
print(test_sample[:5]) 
# [56, 12, 73, 24, 8] (This will change if you run it multiple times)





def get_sample_mean(sample):
    
    # Your code here

    # Computing the mean of the sample
    return np.mean(sample)

test_sample2 = get_sample(data, 30, 0)
test_sample2_mean = get_sample_mean(test_sample2)
print(test_sample2_mean) 
# 32.733333333333334





def create_sample_distribution(data, dist_size=100, n=30):
    sample_means = []  # Store sample means
    
    for i in range(dist_size):
        sample = get_sample(data, n, seed=i)  
        sample_means.append(get_sample_mean(sample))  
    
    return sample_means

test_sample_dist = create_sample_distribution(data)
print(test_sample_dist[:5]) 

# If you set your seed to start at zero and iterate by 1 each sample you should get:
# [32.733333333333334, 54.266666666666666, 50.7, 36.53333333333333, 40.0]





# Your code here

# Small distribution: dist_size=10, n=3
small_sample_dist = create_sample_distribution(data, dist_size=10, n=3)
sns.histplot(small_sample_dist, kde=True)
plt.title("Sampling Distribution (dist_size=10, n=3)")
plt.show()





# Your code here

# Medium distribution: dist_size=30, n=10
medium_sample_dist = create_sample_distribution(data, dist_size=30, n=10)
sns.histplot(medium_sample_dist, kde=True)
plt.title("Sampling Distribution (dist_size=30, n=10)")
plt.show()





# Your code here

# Large distribution: dist_size=1000, n=30
large_sample_dist = create_sample_distribution(data, dist_size=1000, n=30)
sns.histplot(large_sample_dist, kde=True)
plt.title("Sampling Distribution (dist_size=1000, n=30)")
plt.show()






